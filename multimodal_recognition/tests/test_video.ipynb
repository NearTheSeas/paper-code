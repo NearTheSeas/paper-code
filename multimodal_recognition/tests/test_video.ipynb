{
 "cells": [
  {
   "cell_type": "code",
   "execution_count": 1,
   "metadata": {},
   "outputs": [],
   "source": [
    "import pickle"
   ]
  },
  {
   "cell_type": "code",
   "execution_count": 2,
   "metadata": {},
   "outputs": [],
   "source": [
    "with open(\"/home/chenghuadong.chd/multimodal_recognition/src/resources/data/unaligned-001.pkl\", \"rb\") as reader:\n",
    "    loaded_data = pickle.load(file=reader)"
   ]
  },
  {
   "cell_type": "code",
   "execution_count": 3,
   "metadata": {},
   "outputs": [
    {
     "data": {
      "text/plain": [
       "dict_keys(['train', 'valid', 'test'])"
      ]
     },
     "execution_count": 3,
     "metadata": {},
     "output_type": "execute_result"
    }
   ],
   "source": [
    "loaded_data.keys()"
   ]
  },
  {
   "cell_type": "code",
   "execution_count": 18,
   "metadata": {},
   "outputs": [
    {
     "data": {
      "text/plain": [
       "2722"
      ]
     },
     "execution_count": 18,
     "metadata": {},
     "output_type": "execute_result"
    }
   ],
   "source": [
    "len(loaded_data[\"train\"][\"audio\"])"
   ]
  },
  {
   "cell_type": "code",
   "execution_count": 21,
   "metadata": {},
   "outputs": [
    {
     "data": {
      "text/plain": [
       "647"
      ]
     },
     "execution_count": 21,
     "metadata": {},
     "output_type": "execute_result"
    }
   ],
   "source": [
    "len(loaded_data[\"valid\"][\"audio\"])"
   ]
  },
  {
   "cell_type": "code",
   "execution_count": null,
   "metadata": {},
   "outputs": [],
   "source": []
  },
  {
   "cell_type": "code",
   "execution_count": null,
   "metadata": {},
   "outputs": [],
   "source": [
    "# 处理数据，只保留positive 和 negative\n",
    "data_list = []\n",
    "keys = [\"audio\", \"audio_lengths\", \"vision\", \"vision_lengths\", \"annotations\", \"raw_text\"]\n",
    "\n",
    "for name in [\"train\", \"valid\", \"test\"]:\n",
    "    value_dict = {}\n",
    "    for key in keys:\n",
    "        values = loaded_data[name][key].tolist()\n",
    "        value_dict[key] = values\n",
    "    \n",
    "    anno = value_dict[\"annotations\"]\n",
    "    for idx in range(len(anno)):\n",
    "        if anno[idx] == \"Neutral\":\n",
    "            continue\n",
    "        \n",
    "        single_info = {}\n",
    "        for key in keys:\n",
    "            single_info[key] = value_dict[key][idx]\n",
    "        data_list.append(single_info)"
   ]
  },
  {
   "cell_type": "code",
   "execution_count": null,
   "metadata": {},
   "outputs": [],
   "source": [
    "len()"
   ]
  },
  {
   "cell_type": "code",
   "execution_count": null,
   "metadata": {},
   "outputs": [],
   "source": [
    "# 数据shuffle\n",
    "import random\n",
    "\n",
    "random.shuffle(data_list)\n",
    "\n",
    "# 按照 7：2：1划分训练集，验证集，测试集\n",
    "\n",
    "train = data_list[: int(len(data_list) * 0.7)]\n",
    "valid = data_list[int(len(data_list) * 0.7): int(len(data_list) * 0.9)]\n",
    "test = data_list[int(len(data_list) * 0.9):]\n",
    "\n",
    "\n"
   ]
  }
 ],
 "metadata": {
  "kernelspec": {
   "display_name": "llm",
   "language": "python",
   "name": "python3"
  },
  "language_info": {
   "codemirror_mode": {
    "name": "ipython",
    "version": 3
   },
   "file_extension": ".py",
   "mimetype": "text/x-python",
   "name": "python",
   "nbconvert_exporter": "python",
   "pygments_lexer": "ipython3",
   "version": "3.10.0"
  }
 },
 "nbformat": 4,
 "nbformat_minor": 2
}
