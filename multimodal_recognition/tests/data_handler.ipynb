{
 "cells": [
  {
   "cell_type": "markdown",
   "metadata": {},
   "source": [
    "# 数据预处理，从视频中抽取出对应的音频特征"
   ]
  },
  {
   "cell_type": "code",
   "execution_count": 1,
   "metadata": {},
   "outputs": [],
   "source": [
    "import os\n",
    "\n",
    "base_path = \"/home/chenghuadong.chd/multimodal_recognition/src/resources/data/Raw\"\n",
    "files = os.listdir(base_path)"
   ]
  },
  {
   "cell_type": "code",
   "execution_count": 3,
   "metadata": {},
   "outputs": [],
   "source": [
    "from moviepy import AudioFileClip"
   ]
  },
  {
   "cell_type": "code",
   "execution_count": null,
   "metadata": {},
   "outputs": [],
   "source": [
    "for file in files:\n",
    "    file_path = os.path.join(base_path, file)\n",
    "    videos = os.listdir(file_path)\n",
    "\n",
    "    for video in videos:\n",
    "        video_name = video.split(\".\")[0]\n",
    "\n",
    "        video_path = os.path.join(file_path, video)\n",
    "        audio_path = video_path.replace(\"mp4\", \"wav\")\n",
    "\n",
    "        audio_clip = AudioFileClip(video_path)\n",
    "        audio_clip.write_audiofile(audio_path)\n",
    "        audio_clip.close()"
   ]
  },
  {
   "cell_type": "code",
   "execution_count": null,
   "metadata": {},
   "outputs": [],
   "source": []
  }
 ],
 "metadata": {
  "kernelspec": {
   "display_name": "llm",
   "language": "python",
   "name": "python3"
  },
  "language_info": {
   "codemirror_mode": {
    "name": "ipython",
    "version": 3
   },
   "file_extension": ".py",
   "mimetype": "text/x-python",
   "name": "python",
   "nbconvert_exporter": "python",
   "pygments_lexer": "ipython3",
   "version": "3.10.0"
  }
 },
 "nbformat": 4,
 "nbformat_minor": 2
}
